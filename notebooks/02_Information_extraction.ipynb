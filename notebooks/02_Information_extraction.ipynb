{
  "cells": [
    {
      "cell_type": "markdown",
      "metadata": {
        "id": "view-in-github",
        "colab_type": "text"
      },
      "source": [
        "<a href=\"https://colab.research.google.com/github/CherpanovNazim/learn-llm/blob/main/notebooks/02_Information_extraction.ipynb\" target=\"_parent\"><img src=\"https://colab.research.google.com/assets/colab-badge.svg\" alt=\"Open In Colab\"/></a>"
      ]
    },
    {
      "cell_type": "markdown",
      "metadata": {
        "id": "xaOhiiXn8WO-"
      },
      "source": [
        "\n",
        "> [GitHub Repo](https://github.com/CherpanovNazim/learn-llm)"
      ]
    },
    {
      "cell_type": "code",
      "execution_count": 10,
      "metadata": {
        "colab": {
          "base_uri": "https://localhost:8080/"
        },
        "id": "SSxf4LBw8WO_",
        "outputId": "5a5bfcab-b986-4ab2-c0da-4caa2dfd6f9e"
      },
      "outputs": [
        {
          "output_type": "stream",
          "name": "stdout",
          "text": [
            "\u001b[2K     \u001b[90m━━━━━━━━━━━━━━━━━━━━━━━━━━━━━━━━━━━━━━━━\u001b[0m \u001b[32m50.4/50.4 kB\u001b[0m \u001b[31m3.4 MB/s\u001b[0m eta \u001b[36m0:00:00\u001b[0m\n",
            "\u001b[2K   \u001b[90m━━━━━━━━━━━━━━━━━━━━━━━━━━━━━━━━━━━━━━━━\u001b[0m \u001b[32m997.8/997.8 kB\u001b[0m \u001b[31m49.5 MB/s\u001b[0m eta \u001b[36m0:00:00\u001b[0m\n",
            "\u001b[2K   \u001b[90m━━━━━━━━━━━━━━━━━━━━━━━━━━━━━━━━━━━━━━━━\u001b[0m \u001b[32m384.8/384.8 kB\u001b[0m \u001b[31m32.1 MB/s\u001b[0m eta \u001b[36m0:00:00\u001b[0m\n",
            "\u001b[2K   \u001b[90m━━━━━━━━━━━━━━━━━━━━━━━━━━━━━━━━━━━━━━━━\u001b[0m \u001b[32m140.4/140.4 kB\u001b[0m \u001b[31m12.8 MB/s\u001b[0m eta \u001b[36m0:00:00\u001b[0m\n",
            "\u001b[2K   \u001b[90m━━━━━━━━━━━━━━━━━━━━━━━━━━━━━━━━━━━━━━━━\u001b[0m \u001b[32m141.9/141.9 kB\u001b[0m \u001b[31m13.4 MB/s\u001b[0m eta \u001b[36m0:00:00\u001b[0m\n",
            "\u001b[?25hCPU times: user 64 ms, sys: 5.97 ms, total: 70 ms\n",
            "Wall time: 8.84 s\n"
          ]
        }
      ],
      "source": [
        "# wait ~3 min for installations\n",
        "%%time\n",
        "\n",
        "!pip install -qU thefuzz==0.22.1 openai==1.40.3 vllm==0.5.4 transformers==4.44.0 langchain==0.2.13"
      ]
    },
    {
      "cell_type": "code",
      "source": [
        "# wait ~3 min for installations\n",
        "%%time\n",
        "\n",
        "# Load the default model\n",
        "DEFAULT_MODEL = {\"model\": \"hugging-quants/Meta-Llama-3.1-8B-Instruct-AWQ-INT4\", \"api_base\": \"http://localhost:8000/v1\", \"api_key\": \"EMPTY\"}\n",
        "\n",
        "#run VLLM\n",
        "!nohup vllm serve {DEFAULT_MODEL['model']} --quantization awq --max-model-len=4096 > vllm.log &\n",
        "!tail -f vllm.log | grep -q \"Uvicorn running\" && echo \"Now you can start using the model\""
      ],
      "metadata": {
        "colab": {
          "base_uri": "https://localhost:8080/"
        },
        "id": "YTq6lYY99IxI",
        "outputId": "bc0ed8a9-6213-45e8-8de8-e5358820b803"
      },
      "execution_count": 2,
      "outputs": [
        {
          "output_type": "stream",
          "name": "stdout",
          "text": [
            "nohup: redirecting stderr to stdout\n",
            "Now you can start using the model\n",
            "CPU times: user 684 ms, sys: 127 ms, total: 810 ms\n",
            "Wall time: 2min 7s\n"
          ]
        }
      ]
    },
    {
      "cell_type": "code",
      "execution_count": 3,
      "metadata": {
        "id": "G1R-4YnK8WPB",
        "outputId": "09f7ef36-669a-4d43-87b2-c692563810db",
        "colab": {
          "base_uri": "https://localhost:8080/",
          "height": 474
        }
      },
      "outputs": [
        {
          "output_type": "display_data",
          "data": {
            "text/plain": [
              "<IPython.core.display.Markdown object>"
            ],
            "text/markdown": "**Named Entity Recognition (NER)**\n\nNamed Entity Recognition (NER) is a fundamental task in Natural Language Processing (NLP) that identifies and categorizes named entities in unstructured text into predefined categories.\n\n**Categories:**\n\n1. **Person**: Names of individuals (e.g., John Smith)\n2. **Organization**: Names of companies, institutions, or organizations (e.g., Google)\n3. **Location**: Names of cities, countries, or geographic locations (e.g., New York)\n4. **Date**: Specific dates or time periods (e.g., 2022-07-26)\n5. **Event**: Names of events, conferences, or festivals (e.g., Olympics)\n\n**Goals:**\n\n1. Identify and extract named entities from text\n2. Categorize entities into predefined categories\n3. Improve text analysis, information extraction, and understanding\n\nNER is a crucial step in many NLP applications, including:\n\n* Information retrieval\n* Question answering\n* Sentiment analysis\n* Text classification\n* Machine translation\n\nBy recognizing and categorizing named entities, NER enables computers to better understand the meaning and context of text, leading to more accurate and informative results."
          },
          "metadata": {}
        }
      ],
      "source": [
        "!wget -q 'https://raw.githubusercontent.com/CherpanovNazim/learn-llm/main/notebooks/utils/explainer.py' -O explainer.py\n",
        "!python3 explainer.py\n",
        "\n",
        "from explainer import Explainer\n",
        "\n",
        "explain = Explainer()\n",
        "# use this class if you want to get some explanations\n",
        "# It uses LLAMA 3 to generate explanations :)\n",
        "explain(\"Explain what is NER in NLP in short\")"
      ]
    },
    {
      "cell_type": "code",
      "execution_count": 4,
      "metadata": {
        "id": "eKW-beHG8WPB"
      },
      "outputs": [],
      "source": [
        "import json\n",
        "import openai\n",
        "import pandas as pd\n",
        "from pprint import pprint\n",
        "from tqdm import tqdm\n",
        "\n",
        "# Set the base URL and API key\n",
        "# For production apps it's preferable to use some secret management system and don't store the key in git repo :)\n",
        "client = openai.OpenAI(\n",
        "    base_url = DEFAULT_MODEL['api_base'],\n",
        "    api_key = DEFAULT_MODEL['api_key']\n",
        "    )"
      ]
    },
    {
      "cell_type": "markdown",
      "metadata": {
        "id": "b11_UjZz8WPB"
      },
      "source": [
        "# Named Entity Recognition (NER)\n",
        "* We use a small sample from [Few-NERD](https://github.com/thunlp/Few-NERD) dataset with 4 entity types"
      ]
    },
    {
      "cell_type": "code",
      "execution_count": 5,
      "metadata": {
        "id": "C44eFlql8WPB",
        "outputId": "7e192d46-7f59-4d4a-dab9-aff7572824d1",
        "colab": {
          "base_uri": "https://localhost:8080/",
          "height": 206
        }
      },
      "outputs": [
        {
          "output_type": "execute_result",
          "data": {
            "text/plain": [
              "                                                text  \\\n",
              "0  Texas Roadhouse is an American chain restauran...   \n",
              "1  The 2008 Chinese milk scandal affected Cadbury...   \n",
              "2  In early 2002 , Boston Market entered the Aust...   \n",
              "3  Pizza Hut has offered a seafood pizza in Malay...   \n",
              "4  Stuart C. Davidson ( September 9 , 1922 – Augu...   \n",
              "\n",
              "                                              labels  \n",
              "0  {'building_restaurant': ['Texas Roadhouse'], '...  \n",
              "1  {'location_gpe': ['China', 'Chinese'], 'organi...  \n",
              "2  {'organization_company': ['Boston Market'], 'l...  \n",
              "3  {'organization_company': ['Pizza Hut'], 'produ...  \n",
              "4  {'location_gpe': ['Georgetown', 'Washington , ...  "
            ],
            "text/html": [
              "\n",
              "  <div id=\"df-14b6515f-a052-4c24-84ff-f5785b56de61\" class=\"colab-df-container\">\n",
              "    <div>\n",
              "<style scoped>\n",
              "    .dataframe tbody tr th:only-of-type {\n",
              "        vertical-align: middle;\n",
              "    }\n",
              "\n",
              "    .dataframe tbody tr th {\n",
              "        vertical-align: top;\n",
              "    }\n",
              "\n",
              "    .dataframe thead th {\n",
              "        text-align: right;\n",
              "    }\n",
              "</style>\n",
              "<table border=\"1\" class=\"dataframe\">\n",
              "  <thead>\n",
              "    <tr style=\"text-align: right;\">\n",
              "      <th></th>\n",
              "      <th>text</th>\n",
              "      <th>labels</th>\n",
              "    </tr>\n",
              "  </thead>\n",
              "  <tbody>\n",
              "    <tr>\n",
              "      <th>0</th>\n",
              "      <td>Texas Roadhouse is an American chain restauran...</td>\n",
              "      <td>{'building_restaurant': ['Texas Roadhouse'], '...</td>\n",
              "    </tr>\n",
              "    <tr>\n",
              "      <th>1</th>\n",
              "      <td>The 2008 Chinese milk scandal affected Cadbury...</td>\n",
              "      <td>{'location_gpe': ['China', 'Chinese'], 'organi...</td>\n",
              "    </tr>\n",
              "    <tr>\n",
              "      <th>2</th>\n",
              "      <td>In early 2002 , Boston Market entered the Aust...</td>\n",
              "      <td>{'organization_company': ['Boston Market'], 'l...</td>\n",
              "    </tr>\n",
              "    <tr>\n",
              "      <th>3</th>\n",
              "      <td>Pizza Hut has offered a seafood pizza in Malay...</td>\n",
              "      <td>{'organization_company': ['Pizza Hut'], 'produ...</td>\n",
              "    </tr>\n",
              "    <tr>\n",
              "      <th>4</th>\n",
              "      <td>Stuart C. Davidson ( September 9 , 1922 – Augu...</td>\n",
              "      <td>{'location_gpe': ['Georgetown', 'Washington , ...</td>\n",
              "    </tr>\n",
              "  </tbody>\n",
              "</table>\n",
              "</div>\n",
              "    <div class=\"colab-df-buttons\">\n",
              "\n",
              "  <div class=\"colab-df-container\">\n",
              "    <button class=\"colab-df-convert\" onclick=\"convertToInteractive('df-14b6515f-a052-4c24-84ff-f5785b56de61')\"\n",
              "            title=\"Convert this dataframe to an interactive table.\"\n",
              "            style=\"display:none;\">\n",
              "\n",
              "  <svg xmlns=\"http://www.w3.org/2000/svg\" height=\"24px\" viewBox=\"0 -960 960 960\">\n",
              "    <path d=\"M120-120v-720h720v720H120Zm60-500h600v-160H180v160Zm220 220h160v-160H400v160Zm0 220h160v-160H400v160ZM180-400h160v-160H180v160Zm440 0h160v-160H620v160ZM180-180h160v-160H180v160Zm440 0h160v-160H620v160Z\"/>\n",
              "  </svg>\n",
              "    </button>\n",
              "\n",
              "  <style>\n",
              "    .colab-df-container {\n",
              "      display:flex;\n",
              "      gap: 12px;\n",
              "    }\n",
              "\n",
              "    .colab-df-convert {\n",
              "      background-color: #E8F0FE;\n",
              "      border: none;\n",
              "      border-radius: 50%;\n",
              "      cursor: pointer;\n",
              "      display: none;\n",
              "      fill: #1967D2;\n",
              "      height: 32px;\n",
              "      padding: 0 0 0 0;\n",
              "      width: 32px;\n",
              "    }\n",
              "\n",
              "    .colab-df-convert:hover {\n",
              "      background-color: #E2EBFA;\n",
              "      box-shadow: 0px 1px 2px rgba(60, 64, 67, 0.3), 0px 1px 3px 1px rgba(60, 64, 67, 0.15);\n",
              "      fill: #174EA6;\n",
              "    }\n",
              "\n",
              "    .colab-df-buttons div {\n",
              "      margin-bottom: 4px;\n",
              "    }\n",
              "\n",
              "    [theme=dark] .colab-df-convert {\n",
              "      background-color: #3B4455;\n",
              "      fill: #D2E3FC;\n",
              "    }\n",
              "\n",
              "    [theme=dark] .colab-df-convert:hover {\n",
              "      background-color: #434B5C;\n",
              "      box-shadow: 0px 1px 3px 1px rgba(0, 0, 0, 0.15);\n",
              "      filter: drop-shadow(0px 1px 2px rgba(0, 0, 0, 0.3));\n",
              "      fill: #FFFFFF;\n",
              "    }\n",
              "  </style>\n",
              "\n",
              "    <script>\n",
              "      const buttonEl =\n",
              "        document.querySelector('#df-14b6515f-a052-4c24-84ff-f5785b56de61 button.colab-df-convert');\n",
              "      buttonEl.style.display =\n",
              "        google.colab.kernel.accessAllowed ? 'block' : 'none';\n",
              "\n",
              "      async function convertToInteractive(key) {\n",
              "        const element = document.querySelector('#df-14b6515f-a052-4c24-84ff-f5785b56de61');\n",
              "        const dataTable =\n",
              "          await google.colab.kernel.invokeFunction('convertToInteractive',\n",
              "                                                    [key], {});\n",
              "        if (!dataTable) return;\n",
              "\n",
              "        const docLinkHtml = 'Like what you see? Visit the ' +\n",
              "          '<a target=\"_blank\" href=https://colab.research.google.com/notebooks/data_table.ipynb>data table notebook</a>'\n",
              "          + ' to learn more about interactive tables.';\n",
              "        element.innerHTML = '';\n",
              "        dataTable['output_type'] = 'display_data';\n",
              "        await google.colab.output.renderOutput(dataTable, element);\n",
              "        const docLink = document.createElement('div');\n",
              "        docLink.innerHTML = docLinkHtml;\n",
              "        element.appendChild(docLink);\n",
              "      }\n",
              "    </script>\n",
              "  </div>\n",
              "\n",
              "\n",
              "<div id=\"df-4552d501-c6dd-43bb-ba6e-54fd5be4c797\">\n",
              "  <button class=\"colab-df-quickchart\" onclick=\"quickchart('df-4552d501-c6dd-43bb-ba6e-54fd5be4c797')\"\n",
              "            title=\"Suggest charts\"\n",
              "            style=\"display:none;\">\n",
              "\n",
              "<svg xmlns=\"http://www.w3.org/2000/svg\" height=\"24px\"viewBox=\"0 0 24 24\"\n",
              "     width=\"24px\">\n",
              "    <g>\n",
              "        <path d=\"M19 3H5c-1.1 0-2 .9-2 2v14c0 1.1.9 2 2 2h14c1.1 0 2-.9 2-2V5c0-1.1-.9-2-2-2zM9 17H7v-7h2v7zm4 0h-2V7h2v10zm4 0h-2v-4h2v4z\"/>\n",
              "    </g>\n",
              "</svg>\n",
              "  </button>\n",
              "\n",
              "<style>\n",
              "  .colab-df-quickchart {\n",
              "      --bg-color: #E8F0FE;\n",
              "      --fill-color: #1967D2;\n",
              "      --hover-bg-color: #E2EBFA;\n",
              "      --hover-fill-color: #174EA6;\n",
              "      --disabled-fill-color: #AAA;\n",
              "      --disabled-bg-color: #DDD;\n",
              "  }\n",
              "\n",
              "  [theme=dark] .colab-df-quickchart {\n",
              "      --bg-color: #3B4455;\n",
              "      --fill-color: #D2E3FC;\n",
              "      --hover-bg-color: #434B5C;\n",
              "      --hover-fill-color: #FFFFFF;\n",
              "      --disabled-bg-color: #3B4455;\n",
              "      --disabled-fill-color: #666;\n",
              "  }\n",
              "\n",
              "  .colab-df-quickchart {\n",
              "    background-color: var(--bg-color);\n",
              "    border: none;\n",
              "    border-radius: 50%;\n",
              "    cursor: pointer;\n",
              "    display: none;\n",
              "    fill: var(--fill-color);\n",
              "    height: 32px;\n",
              "    padding: 0;\n",
              "    width: 32px;\n",
              "  }\n",
              "\n",
              "  .colab-df-quickchart:hover {\n",
              "    background-color: var(--hover-bg-color);\n",
              "    box-shadow: 0 1px 2px rgba(60, 64, 67, 0.3), 0 1px 3px 1px rgba(60, 64, 67, 0.15);\n",
              "    fill: var(--button-hover-fill-color);\n",
              "  }\n",
              "\n",
              "  .colab-df-quickchart-complete:disabled,\n",
              "  .colab-df-quickchart-complete:disabled:hover {\n",
              "    background-color: var(--disabled-bg-color);\n",
              "    fill: var(--disabled-fill-color);\n",
              "    box-shadow: none;\n",
              "  }\n",
              "\n",
              "  .colab-df-spinner {\n",
              "    border: 2px solid var(--fill-color);\n",
              "    border-color: transparent;\n",
              "    border-bottom-color: var(--fill-color);\n",
              "    animation:\n",
              "      spin 1s steps(1) infinite;\n",
              "  }\n",
              "\n",
              "  @keyframes spin {\n",
              "    0% {\n",
              "      border-color: transparent;\n",
              "      border-bottom-color: var(--fill-color);\n",
              "      border-left-color: var(--fill-color);\n",
              "    }\n",
              "    20% {\n",
              "      border-color: transparent;\n",
              "      border-left-color: var(--fill-color);\n",
              "      border-top-color: var(--fill-color);\n",
              "    }\n",
              "    30% {\n",
              "      border-color: transparent;\n",
              "      border-left-color: var(--fill-color);\n",
              "      border-top-color: var(--fill-color);\n",
              "      border-right-color: var(--fill-color);\n",
              "    }\n",
              "    40% {\n",
              "      border-color: transparent;\n",
              "      border-right-color: var(--fill-color);\n",
              "      border-top-color: var(--fill-color);\n",
              "    }\n",
              "    60% {\n",
              "      border-color: transparent;\n",
              "      border-right-color: var(--fill-color);\n",
              "    }\n",
              "    80% {\n",
              "      border-color: transparent;\n",
              "      border-right-color: var(--fill-color);\n",
              "      border-bottom-color: var(--fill-color);\n",
              "    }\n",
              "    90% {\n",
              "      border-color: transparent;\n",
              "      border-bottom-color: var(--fill-color);\n",
              "    }\n",
              "  }\n",
              "</style>\n",
              "\n",
              "  <script>\n",
              "    async function quickchart(key) {\n",
              "      const quickchartButtonEl =\n",
              "        document.querySelector('#' + key + ' button');\n",
              "      quickchartButtonEl.disabled = true;  // To prevent multiple clicks.\n",
              "      quickchartButtonEl.classList.add('colab-df-spinner');\n",
              "      try {\n",
              "        const charts = await google.colab.kernel.invokeFunction(\n",
              "            'suggestCharts', [key], {});\n",
              "      } catch (error) {\n",
              "        console.error('Error during call to suggestCharts:', error);\n",
              "      }\n",
              "      quickchartButtonEl.classList.remove('colab-df-spinner');\n",
              "      quickchartButtonEl.classList.add('colab-df-quickchart-complete');\n",
              "    }\n",
              "    (() => {\n",
              "      let quickchartButtonEl =\n",
              "        document.querySelector('#df-4552d501-c6dd-43bb-ba6e-54fd5be4c797 button');\n",
              "      quickchartButtonEl.style.display =\n",
              "        google.colab.kernel.accessAllowed ? 'block' : 'none';\n",
              "    })();\n",
              "  </script>\n",
              "</div>\n",
              "\n",
              "    </div>\n",
              "  </div>\n"
            ],
            "application/vnd.google.colaboratory.intrinsic+json": {
              "type": "dataframe",
              "variable_name": "dataset_df",
              "summary": "{\n  \"name\": \"dataset_df\",\n  \"rows\": 95,\n  \"fields\": [\n    {\n      \"column\": \"text\",\n      \"properties\": {\n        \"dtype\": \"string\",\n        \"num_unique_values\": 95,\n        \"samples\": [\n          \"AmRest LLC , which operated 102 Applebee 's restaurants in the United States was sold to American Apple Group , the largest franchisee of Applebee 's on June 7 , 2012 .\",\n          \"The Rock N Roll McDonald 's ( formerly The Original Rock ' N Roll McDonald 's ) was a flagship McDonald 's restaurant located in Chicago .\",\n          \"DeLoach produces Chardonnay , Pinot Noir and Zinfandel in the Russian River Valley AVA in Sonoma County .\"\n        ],\n        \"semantic_type\": \"\",\n        \"description\": \"\"\n      }\n    },\n    {\n      \"column\": \"labels\",\n      \"properties\": {\n        \"dtype\": \"object\",\n        \"semantic_type\": \"\",\n        \"description\": \"\"\n      }\n    }\n  ]\n}"
            }
          },
          "metadata": {},
          "execution_count": 5
        }
      ],
      "source": [
        "#Sownload dataset from GitHub\n",
        "!wget -q 'https://github.com/CherpanovNazim/learn-llm/blob/main/data/fewnerd_NER.json?raw=true' -O fewnerd_NER.json\n",
        "\n",
        "dataset_df = pd.read_json('fewnerd_NER.json', lines=True)\n",
        "\n",
        "unique_entities = ['product_food', 'building_restaurant', 'organization_company', 'location_gpe']\n",
        "\n",
        "dataset_df.head()"
      ]
    },
    {
      "cell_type": "code",
      "execution_count": 6,
      "metadata": {
        "id": "VH1KGbup8WPB",
        "outputId": "21a526ef-ce7d-4246-df4e-70218a04009b",
        "colab": {
          "base_uri": "https://localhost:8080/"
        }
      },
      "outputs": [
        {
          "output_type": "stream",
          "name": "stdout",
          "text": [
            "Texas Roadhouse is an American chain restaurant that specializes in steaks around a Western theme and is a subsidiary of Texas Roadhouse Inc , which is headquartered in Louisville , Kentucky .\n",
            "\n",
            "Labels:\n",
            "{'building_restaurant': ['Texas Roadhouse'],\n",
            " 'location_gpe': ['Kentucky', 'Louisville', 'American'],\n",
            " 'organization_company': ['Texas Roadhouse Inc']}\n"
          ]
        }
      ],
      "source": [
        "print(dataset_df.iloc[0]['text'])\n",
        "print('\\nLabels:')\n",
        "pprint(dataset_df.iloc[0]['labels'])\n",
        "\n",
        "# note that there is no \"product-food\" entity there for this example :)"
      ]
    },
    {
      "cell_type": "markdown",
      "metadata": {
        "id": "qQFvs5Gm8WPB"
      },
      "source": [
        "# Evaluation\n",
        "* Let's first of all define the evaluation metric"
      ]
    },
    {
      "cell_type": "code",
      "execution_count": 7,
      "metadata": {
        "id": "HQXLj3Z28WPB",
        "outputId": "34480698-0e2f-4b46-9e3f-625affed4332",
        "colab": {
          "base_uri": "https://localhost:8080/"
        }
      },
      "outputs": [
        {
          "output_type": "execute_result",
          "data": {
            "text/plain": [
              "(0.3333333333333333,\n",
              " Counter({'product_food': 0.6666666666666666, 'place_restaurant': 0.0}))"
            ]
          },
          "metadata": {},
          "execution_count": 7
        }
      ],
      "source": [
        "!wget -q 'https://raw.githubusercontent.com/CherpanovNazim/learn-llm/main/notebooks/utils/ner_fuzzy_score.py' -O ner_fuzzy_score.py\n",
        "!python3 ner_fuzzy_score.py\n",
        "\n",
        "from sklearn.model_selection import train_test_split\n",
        "from ner_fuzzy_score import calculate_mean_score\n",
        "\n",
        "train_df, test_df = train_test_split(dataset_df, test_size=0.5, random_state=42)\n",
        "\n",
        "# example of metric calculation\n",
        "calculate_mean_score(y_true = [{'product_food': ['chicken nuggets', 'rice'], 'place_restaurant': ['McDonalds']}],\n",
        "                     y_pred = [{'product_food': ['rice', 'chicken', 'FALSE']}])"
      ]
    },
    {
      "cell_type": "code",
      "execution_count": 8,
      "metadata": {
        "id": "Hzbqg8O78WPC"
      },
      "outputs": [],
      "source": [
        "def text_completion(prompt, temperature=0, max_tokens=2, return_completion_only=True, **kwargs):\n",
        "    completion_response = client.completions.create(\n",
        "                            model=DEFAULT_MODEL[\"model\"],\n",
        "                            temperature=temperature,\n",
        "                            max_tokens=max_tokens,\n",
        "                            prompt=prompt,\n",
        "                            **kwargs)\n",
        "    if return_completion_only:\n",
        "        return completion_response.choices[0].text.strip()\n",
        "    else:\n",
        "        return completion_response"
      ]
    },
    {
      "cell_type": "markdown",
      "metadata": {
        "id": "IsbSA4no8WPC"
      },
      "source": [
        "# JSON Parser"
      ]
    },
    {
      "cell_type": "markdown",
      "metadata": {
        "id": "-BQMvFrv8WPC"
      },
      "source": [
        "LLMs not always returns just a JSON, so we need to correctly extract and parse it. There are few options available:\n",
        "* [JSON mode](https://platform.openai.com/docs/guides/json-mode) provided by OpenAI forses responce to output a JSON format.\n",
        "* In this notebook we are using vLLM functionality to recieve outputs in JSON format. This requires passing sample JSON schema to recieve correct output."
      ]
    },
    {
      "cell_type": "markdown",
      "metadata": {
        "id": "1n1izz2L8WPC"
      },
      "source": [
        "JSON schema shapes LLM's output, so it is crucial to correctly initialize it.\n",
        "\n",
        "In some use-cases prior information about presence or exact number of entities might be available, so we should include it in our JSON:\n",
        "- **min_items = 1** : model should include at least one entry\n",
        "- **Optional** : entries could be *None*\n",
        "\n",
        "These parameters help LLM correctly shape final output in our case, which resulted in overall better performance. <br />\n",
        "\n",
        "Depending on the case additional fields (E.g. **unique_items**, **max_digits**) might be added for more specific structure. <br />\n",
        "All supported parameters could be found in [Pydantic documentation](https://docs.pydantic.dev/1.10/usage/schema/#field-customization)."
      ]
    },
    {
      "cell_type": "code",
      "execution_count": 11,
      "metadata": {
        "id": "GWpl9crI8WPC"
      },
      "outputs": [],
      "source": [
        "from langchain.output_parsers import PydanticOutputParser\n",
        "from pydantic import BaseModel, Field, conlist\n",
        "from typing import List, Optional\n",
        "import json\n",
        "from functools import partial\n",
        "from tqdm import tqdm\n",
        "\n",
        "class Entities(BaseModel):\n",
        "    product_food: Optional[List[str]] = Field(..., min_items = 1)\n",
        "    building_restaurant: Optional[List[str]] = Field(..., min_items = 1)\n",
        "    organization_company: Optional[List[str]] = Field(..., min_items = 1)\n",
        "    location_gpe: Optional[List[str]] = Field(..., min_items = 1)\n",
        "\n",
        "sample_json_schema = Entities.model_json_schema()"
      ]
    },
    {
      "cell_type": "code",
      "execution_count": 12,
      "metadata": {
        "id": "9ef_-5M38WPC"
      },
      "outputs": [],
      "source": [
        "def chat_completion(prompts, temperature=0, max_tokens=2, system_prompt: str = None, json_schema = sample_json_schema, **kwargs):\n",
        "    if system_prompt is None:\n",
        "        system_prompt = \"Just follow user instructions and don't communicate like \\\"Sure!\\\" or \\\"I hope this helps\\\"\"\n",
        "\n",
        "    completion = client.chat.completions.create(\n",
        "        model=DEFAULT_MODEL[\"model\"],\n",
        "        temperature=temperature,\n",
        "        max_tokens=max_tokens,\n",
        "        messages=[{\"role\": \"system\", \"content\": system_prompt},\n",
        "                  {\"role\": \"user\", \"content\": prompts}],\n",
        "        extra_body=dict(guided_json = json_schema),\n",
        "        **kwargs\n",
        "        )\n",
        "    return completion.choices[0].message.content.strip()"
      ]
    },
    {
      "cell_type": "code",
      "execution_count": 13,
      "metadata": {
        "id": "nK2GyIfR8WPD"
      },
      "outputs": [],
      "source": [
        "def llm_predict(text, template):\n",
        "    prompt = template.format(text=text)\n",
        "    prediction = chat_completion(prompt, max_tokens=200).lower().strip()\n",
        "    out = json.loads(prediction)\n",
        "    return out"
      ]
    },
    {
      "cell_type": "markdown",
      "metadata": {
        "id": "kM1-KLz18WPD"
      },
      "source": [
        "# Zero-shot NER"
      ]
    },
    {
      "cell_type": "code",
      "execution_count": 14,
      "metadata": {
        "id": "GODY4Gg68WPD",
        "outputId": "06ba5c34-4520-4186-e9ba-485ce77ee07c",
        "colab": {
          "base_uri": "https://localhost:8080/"
        }
      },
      "outputs": [
        {
          "output_type": "stream",
          "name": "stderr",
          "text": [
            "100%|██████████| 48/48 [02:52<00:00,  3.59s/it]"
          ]
        },
        {
          "output_type": "stream",
          "name": "stdout",
          "text": [
            "Score:\n",
            "(0.7582079102828368,\n",
            " Counter({'product_food': 0.8477564102564101,\n",
            "          'organization_company': 0.7837301587301587,\n",
            "          'location_gpe': 0.7404255319148936,\n",
            "          'building_restaurant': 0.660919540229885}))\n"
          ]
        },
        {
          "output_type": "stream",
          "name": "stderr",
          "text": [
            "\n"
          ]
        }
      ],
      "source": [
        "zero_shot_template = \"\"\"\\\n",
        "You will get a text and you should extract entities from it.\n",
        "Format your answer in a JSON format with keys: product_food, building_restaurant, organization_company, location_gpe.\n",
        "Each key should have a list of entities.\n",
        "\n",
        "Text: \"{text}\"\n",
        "\"\"\"\n",
        "\n",
        "zero_shot_predictions = list(map(partial(llm_predict, template=zero_shot_template), tqdm(test_df.text)))\n",
        "\n",
        "print('Score:')\n",
        "pprint(calculate_mean_score(test_df.labels, zero_shot_predictions))"
      ]
    },
    {
      "cell_type": "markdown",
      "metadata": {
        "id": "uMJYGcOw8WPD"
      },
      "source": [
        "# Few-shot NER"
      ]
    },
    {
      "cell_type": "code",
      "execution_count": 15,
      "metadata": {
        "id": "-f8ZN6_L8WPD",
        "outputId": "fd15cc1e-d487-4809-a9ab-425a7f821c88",
        "colab": {
          "base_uri": "https://localhost:8080/"
        }
      },
      "outputs": [
        {
          "output_type": "stream",
          "name": "stdout",
          "text": [
            "Text: \"It is well known for its Chinese restaurants , such as the China Court Restaurant , for the parade which is held there each year to celebrate the Chinese New Year , for the Birmingham Hippodrome and for being the location of the headquarters of Wing Yip .\"\n",
            "JSON: {{\"product_food\": [], \"building_restaurant\": [\"China Court Restaurant\"], \"organization_company\": [\"Wing Yip\"], \"location_gpe\": [\"Chinese\"]}}\n"
          ]
        }
      ],
      "source": [
        "def get_few_shot_example(df, n=1, seed=None):\n",
        "    examples_str = ''\n",
        "    for _,row in df.sample(n, random_state=seed, ).iterrows():\n",
        "        json_str = ''\n",
        "        if row.labels != {}:\n",
        "            # keep the same order of entities (keys) as in the dataset\n",
        "            # if there is no entity in the text - it will be empty list\n",
        "            # additional { and } are needed for escaping - it will keep only ony after second .format\n",
        "\n",
        "            json_str = '{'+json.dumps({k:row.labels.get(k, []) for k in unique_entities})+'}'\n",
        "            #json_str = '{'+json.dumps({k:row.labels[k] for k in unique_entities if k in row.labels})+'}'\n",
        "\n",
        "        examples_str += 'Text: \"{}\"\\nJSON: {}\\n\\n'.format(row.text, json_str)\n",
        "    return examples_str.strip()\n",
        "\n",
        "print(get_few_shot_example(train_df, n=1, seed=42))"
      ]
    },
    {
      "cell_type": "code",
      "execution_count": 16,
      "metadata": {
        "id": "tckgCA-18WPD",
        "outputId": "2f48f395-a8bb-41d6-d1c7-4c76cf6d6fbf",
        "colab": {
          "base_uri": "https://localhost:8080/"
        }
      },
      "outputs": [
        {
          "output_type": "stream",
          "name": "stderr",
          "text": [
            "100%|██████████| 48/48 [02:36<00:00,  3.26s/it]"
          ]
        },
        {
          "output_type": "stream",
          "name": "stdout",
          "text": [
            "Score:\n",
            "(0.8222236367978579,\n",
            " Counter({'product_food': 0.9212278106508875,\n",
            "          'building_restaurant': 0.8620689655172413,\n",
            "          'organization_company': 0.7559523809523809,\n",
            "          'location_gpe': 0.749645390070922}))\n"
          ]
        },
        {
          "output_type": "stream",
          "name": "stderr",
          "text": [
            "\n"
          ]
        }
      ],
      "source": [
        "few_shot_template = \"\"\"\\\n",
        "You will get a text and you should extract entities from it.\n",
        "Format your answer in a JSON format with keys: product_food, building_restaurant, organization_company, location_gpe.\n",
        "Each key should have a list of entities.\n",
        "\n",
        "{few_shot_examples}\n",
        "\n",
        "Text: \"{{text}}\"\n",
        "JSON:\n",
        "\"\"\"\n",
        "\n",
        "# we randomly select 5 few-shot examples from the train dataset\n",
        "few_shot_examples = get_few_shot_example(train_df, n=5, seed=42)\n",
        "\n",
        "# fill-in the template with few-shot examples\n",
        "filled_few_shot_template = few_shot_template.format(few_shot_examples=few_shot_examples)\n",
        "\n",
        "# make predictions\n",
        "few_shot_predictions = list(map(partial(llm_predict, template=filled_few_shot_template), tqdm(test_df.text)))\n",
        "\n",
        "print('Score:')\n",
        "pprint(calculate_mean_score(test_df.labels, few_shot_predictions))"
      ]
    },
    {
      "cell_type": "markdown",
      "metadata": {
        "id": "P4S3JURY8WPD"
      },
      "source": [
        "# Relation extraction"
      ]
    },
    {
      "cell_type": "markdown",
      "metadata": {
        "id": "zS_eZiNA8WPD"
      },
      "source": [
        "* Unfortunately is doesn't work well with LLAMA 3\n",
        "* _TODO_: test with other models like GPT or Mistral\\Zephyr"
      ]
    },
    {
      "cell_type": "code",
      "execution_count": 17,
      "metadata": {
        "id": "ChdUGwSj8WPD",
        "outputId": "b25a7ed1-b11a-4b71-9cc9-8ec9569452a6",
        "colab": {
          "base_uri": "https://localhost:8080/",
          "height": 539
        }
      },
      "outputs": [
        {
          "output_type": "display_data",
          "data": {
            "text/plain": [
              "<IPython.core.display.Markdown object>"
            ],
            "text/markdown": "**Relation Extraction in NLP**\n================================\n\nRelation extraction is a subtask of Natural Language Processing (NLP) that involves identifying and extracting specific relationships between entities in a given text. It is a crucial step in various applications such as question answering, text summarization, and information retrieval.\n\n**What is Relation Extraction?**\n------------------------------\n\nRelation extraction aims to identify the relationships between entities, such as:\n\n*   Person A is married to Person B\n*   Company X is headquartered in City Y\n*   Product A is manufactured by Company B\n\n**Connection to Named Entity Recognition (NER)**\n---------------------------------------------\n\nNamed Entity Recognition (NER) is a related task in NLP that involves identifying and categorizing named entities in a text, such as:\n\n*   Person (e.g., John Smith)\n*   Organization (e.g., Google)\n*   Location (e.g., New York)\n\nRelation extraction builds upon the output of NER, as it requires the identification of entities to establish relationships between them. In other words, NER provides the foundation for relation extraction by identifying the entities, and relation extraction then determines the relationships between these entities.\n\n**Example**\n-----------\n\nSuppose we have a sentence: \"John Smith, the CEO of Google, was born in New York.\"\n\n*   NER would identify the entities: John Smith (Person), Google (Organization), and New York (Location)\n*   Relation extraction would then identify the relationships: John Smith is the CEO of Google, and John Smith was born in New York.\n\nIn summary, relation extraction is a crucial task in NLP that builds upon the output of NER to identify specific relationships between entities in a given text."
          },
          "metadata": {}
        }
      ],
      "source": [
        "explain('What is relation extraction in NLP and how it connected to NER ? make a short summary')"
      ]
    },
    {
      "cell_type": "markdown",
      "metadata": {
        "id": "t9QvZMjx8WPE"
      },
      "source": [
        "# Summary\n",
        "* Correct parsing of response is very important\n",
        "* Zero-shot learning is very powerful and can be used for many tasks\n",
        "* There are special tools for NER and REL tasks\n",
        "* Few-shot learning might NOT boost your performance (for some reason he-he _TODO_: find out why)\n",
        "* Relation extraction can help to identify relations between entities in text"
      ]
    },
    {
      "cell_type": "markdown",
      "metadata": {
        "id": "Z0vf1arI8WPE"
      },
      "source": [
        "# Extra\n",
        "* There are pre-trained LLMs specifically for Information Extraction\n",
        "* * [GoLLIE](https://github.com/hitz-zentroa/GoLLIE) - pre-trained LLM for zero-shot Information Extraction with annotation schemas defined on the fly (Apache 2)\n",
        "* * [UniversalNER](https://universal-ner.github.io/) - instruction-tuned LLM for NER for zero-shot IE (non commercial ?)\n"
      ]
    },
    {
      "cell_type": "markdown",
      "metadata": {
        "id": "UnpXxAUx8WPE"
      },
      "source": [
        "# Homework\n",
        "* Try to play with prompts in order to improve accuracy\n",
        "* Try to extract PRICE from reviews in amazon_food_reviews_sample.csv dataset and identify the overall price for each of 6 products"
      ]
    },
    {
      "cell_type": "code",
      "execution_count": 18,
      "metadata": {
        "id": "MhovsQRj8WPE",
        "outputId": "fbb4fd34-178e-4a82-9e1f-1618dc0e7540",
        "colab": {
          "base_uri": "https://localhost:8080/",
          "height": 304
        }
      },
      "outputs": [
        {
          "output_type": "execute_result",
          "data": {
            "text/plain": [
              "ProductId\n",
              "B000KV61FC    556\n",
              "B000NMJWZO    542\n",
              "B006MONQMC    491\n",
              "B0041NYV8E    452\n",
              "B004EAGP74    196\n",
              "B000GAT6NG    193\n",
              "Name: count, dtype: int64"
            ],
            "text/html": [
              "<div>\n",
              "<style scoped>\n",
              "    .dataframe tbody tr th:only-of-type {\n",
              "        vertical-align: middle;\n",
              "    }\n",
              "\n",
              "    .dataframe tbody tr th {\n",
              "        vertical-align: top;\n",
              "    }\n",
              "\n",
              "    .dataframe thead th {\n",
              "        text-align: right;\n",
              "    }\n",
              "</style>\n",
              "<table border=\"1\" class=\"dataframe\">\n",
              "  <thead>\n",
              "    <tr style=\"text-align: right;\">\n",
              "      <th></th>\n",
              "      <th>count</th>\n",
              "    </tr>\n",
              "    <tr>\n",
              "      <th>ProductId</th>\n",
              "      <th></th>\n",
              "    </tr>\n",
              "  </thead>\n",
              "  <tbody>\n",
              "    <tr>\n",
              "      <th>B000KV61FC</th>\n",
              "      <td>556</td>\n",
              "    </tr>\n",
              "    <tr>\n",
              "      <th>B000NMJWZO</th>\n",
              "      <td>542</td>\n",
              "    </tr>\n",
              "    <tr>\n",
              "      <th>B006MONQMC</th>\n",
              "      <td>491</td>\n",
              "    </tr>\n",
              "    <tr>\n",
              "      <th>B0041NYV8E</th>\n",
              "      <td>452</td>\n",
              "    </tr>\n",
              "    <tr>\n",
              "      <th>B004EAGP74</th>\n",
              "      <td>196</td>\n",
              "    </tr>\n",
              "    <tr>\n",
              "      <th>B000GAT6NG</th>\n",
              "      <td>193</td>\n",
              "    </tr>\n",
              "  </tbody>\n",
              "</table>\n",
              "</div><br><label><b>dtype:</b> int64</label>"
            ]
          },
          "metadata": {},
          "execution_count": 18
        }
      ],
      "source": [
        "import pandas as pd\n",
        "\n",
        "#Download the Amazon Food Reviews dataset from GitHub\n",
        "!wget -q 'https://github.com/CherpanovNazim/learn-llm/blob/main/data/amazon_food_reviews_sample.csv?raw=true' -O amazon_food_reviews_sample.csv\n",
        "\n",
        "reviews_df = pd.read_csv('amazon_food_reviews_sample.csv')\n",
        "reviews_df.ProductId.value_counts()"
      ]
    },
    {
      "cell_type": "code",
      "source": [],
      "metadata": {
        "id": "jD5EX0FsGXMQ"
      },
      "execution_count": null,
      "outputs": []
    }
  ],
  "metadata": {
    "kernelspec": {
      "display_name": "Python 3",
      "name": "python3"
    },
    "language_info": {
      "codemirror_mode": {
        "name": "ipython",
        "version": 3
      },
      "file_extension": ".py",
      "mimetype": "text/x-python",
      "name": "python",
      "nbconvert_exporter": "python",
      "pygments_lexer": "ipython3",
      "version": "3.12.4"
    },
    "colab": {
      "provenance": [],
      "gpuType": "T4",
      "include_colab_link": true
    },
    "accelerator": "GPU"
  },
  "nbformat": 4,
  "nbformat_minor": 0
}