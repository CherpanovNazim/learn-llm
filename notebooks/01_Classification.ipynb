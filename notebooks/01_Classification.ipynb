{
  "cells": [
    {
      "cell_type": "markdown",
      "metadata": {
        "id": "view-in-github",
        "colab_type": "text"
      },
      "source": [
        "<a href=\"https://colab.research.google.com/github/CherpanovNazim/learn-llm/blob/using-ollama/notebooks/01_Classification.ipynb\" target=\"_parent\"><img src=\"https://colab.research.google.com/assets/colab-badge.svg\" alt=\"Open In Colab\"/></a>"
      ]
    },
    {
      "cell_type": "markdown",
      "metadata": {
        "id": "uFWuKlyc76eQ"
      },
      "source": [
        "\n",
        "> [GitHub Repo](https://github.com/CherpanovNazim/learn-llm)"
      ]
    },
    {
      "cell_type": "markdown",
      "metadata": {
        "id": "yTfpJzv_76eS"
      },
      "source": [
        "## Setup"
      ]
    },
    {
      "cell_type": "code",
      "execution_count": null,
      "metadata": {
        "id": "HuVCkIPh0NY-"
      },
      "outputs": [],
      "source": [
        "#clone git repository\n",
        "!git clone -b using-ollama -q https://github.com/CherpanovNazim/learn-llm.git"
      ]
    },
    {
      "cell_type": "code",
      "execution_count": null,
      "metadata": {
        "id": "LeD-2ij_8qsq"
      },
      "outputs": [],
      "source": [
        "# wait ~1 min for installations\n",
        "%%time\n",
        "\n",
        "!pip install -qU openai==1.40.3 langchain-ollama==0.1.3 langchain==0.2.15 transformers==4.44.0"
      ]
    },
    {
      "cell_type": "code",
      "execution_count": null,
      "metadata": {
        "id": "TmlZUxpV89XR"
      },
      "outputs": [],
      "source": [
        "# wait ~1 min for installations\n",
        "%%time\n",
        "\n",
        "import sys\n",
        "\n",
        "def load_model():\n",
        "  !curl -fsSL https://ollama.com/install.sh | sh\n",
        "  !nohup ollama serve &\n",
        "  !sleep 5\n",
        "  return\n",
        "\n",
        "load_model()"
      ]
    },
    {
      "cell_type": "code",
      "execution_count": null,
      "metadata": {
        "id": "h4Pj4Cj-0NY-"
      },
      "outputs": [],
      "source": [
        "import json\n",
        "\n",
        "# Load the default model\n",
        "DEFAULT_MODEL = json.load(open('learn-llm/configs/llama_3_8B.json', 'r'))\n",
        "\n",
        "!ollama run {DEFAULT_MODEL['model']} &"
      ]
    },
    {
      "cell_type": "code",
      "execution_count": null,
      "metadata": {
        "id": "KbuEIXRx9Vym"
      },
      "outputs": [],
      "source": [
        "!python3 learn-llm/notebooks/utils/explainer.py\n",
        "sys.path.append('learn-llm/notebooks/utils')\n",
        "\n",
        "from explainer import Explainer\n",
        "\n",
        "explain = Explainer(DEFAULT_MODEL)\n",
        "# use this class if you want to get some explanations"
      ]
    },
    {
      "cell_type": "code",
      "execution_count": null,
      "metadata": {
        "id": "ZgdXX1_o76eS"
      },
      "outputs": [],
      "source": [
        "import json\n",
        "import openai\n",
        "import pandas as pd\n",
        "from tqdm import tqdm\n",
        "from functools import partial\n",
        "\n",
        "# Set the base URL and API key\n",
        "# For production apps it's preferable to use some secret management system and don't store the key in git repo :)\n",
        "\n",
        "client = openai.OpenAI(\n",
        "    base_url = DEFAULT_MODEL['api_base'],\n",
        "    api_key = DEFAULT_MODEL['api_key']\n",
        "    )"
      ]
    },
    {
      "cell_type": "markdown",
      "metadata": {
        "id": "yheSXTxG76eT"
      },
      "source": [
        "# Load dataset\n",
        "This is a sample from [Amazon Fine Food Reviews](https://www.kaggle.com/datasets/snap/amazon-fine-food-reviews)\n",
        "\n",
        "Table contains:\n",
        "* ProductId - Unique identifier for the product\n",
        "* Score - Rating between 1 and 5\n",
        "* Text - Text of the review"
      ]
    },
    {
      "cell_type": "code",
      "execution_count": null,
      "metadata": {
        "id": "6mv3Bnxz76eT"
      },
      "outputs": [],
      "source": [
        "#Load the dataset\n",
        "reviews_df = pd.read_csv('learn-llm/data/amazon_food_reviews_sample.csv')\n",
        "reviews_df.head()"
      ]
    },
    {
      "cell_type": "code",
      "execution_count": null,
      "metadata": {
        "id": "_VWo2rQi76eU"
      },
      "outputs": [],
      "source": [
        "reviews_df.Score.value_counts().plot.barh(title='Score distribution')"
      ]
    },
    {
      "cell_type": "code",
      "execution_count": null,
      "metadata": {
        "id": "Uj9s1HEg76eU"
      },
      "outputs": [],
      "source": [
        "from sklearn.model_selection import train_test_split\n",
        "from sklearn.metrics import accuracy_score\n",
        "\n",
        "# for small datasets of course better to use KFold CV, but for education purposes we will use train_test_split\n",
        "train_df, test_df = train_test_split(reviews_df, stratify=reviews_df.Score, test_size=0.1, random_state=42)"
      ]
    },
    {
      "cell_type": "markdown",
      "metadata": {
        "id": "m890RJre76eV"
      },
      "source": [
        "## Baseline TF-IDF + Logistic Regression model"
      ]
    },
    {
      "cell_type": "markdown",
      "metadata": {
        "id": "n-m6_UEL0NY_"
      },
      "source": [
        "** ***In this notebook, due to limited memory, we used the Llama-3 8B model, which resulted in unstable performance. Therefore, don’t be surprised if advanced techniques yield lower accuracy. At the end, we will present a table of results using a larger model, where you will see how accuracy tends to improve.***"
      ]
    },
    {
      "cell_type": "code",
      "execution_count": null,
      "metadata": {
        "id": "mmOeV1HM76eV"
      },
      "outputs": [],
      "source": [
        "from sklearn.feature_extraction.text import TfidfVectorizer\n",
        "from sklearn.linear_model import LogisticRegression\n",
        "from sklearn.pipeline import make_pipeline\n",
        "\n",
        "clf = make_pipeline(TfidfVectorizer(), LogisticRegression(class_weight='balanced'))\n",
        "\n",
        "clf.fit(train_df['Text'], train_df['Score'])\n",
        "\n",
        "print('TF-IDF + LogReg Accuracy:', accuracy_score(test_df['Score'], clf.predict(test_df['Text'])))"
      ]
    },
    {
      "cell_type": "code",
      "execution_count": null,
      "metadata": {
        "id": "7dhnFPMH76eV"
      },
      "outputs": [],
      "source": [
        "def text_completion(prompt, temperature=0, max_tokens=2, return_completion_only=True, **kwargs):\n",
        "    completion_response = client.completions.create(\n",
        "                            model=DEFAULT_MODEL[\"model\"],\n",
        "                            temperature=temperature,\n",
        "                            max_tokens=max_tokens,\n",
        "                            prompt=prompt,\n",
        "                            **kwargs)\n",
        "    if return_completion_only:\n",
        "        return completion_response.choices[0].text.strip()\n",
        "    else:\n",
        "        return completion_response\n",
        "\n",
        "def chat_completion(prompts, temperature=0, max_tokens=2, system_prompt: str = None, **kwargs):\n",
        "    if system_prompt is None:\n",
        "        system_prompt = \"Just follow user instructions and don't communicate like \\\"Sure!\\\" or \\\"I hope this helps\\\"\"\n",
        "\n",
        "    completion = client.chat.completions.create(\n",
        "        model=DEFAULT_MODEL[\"model\"],\n",
        "        temperature=temperature,\n",
        "        max_tokens=max_tokens,\n",
        "        messages=[{\"role\": \"system\", \"content\": system_prompt},\n",
        "                  {\"role\": \"user\", \"content\": prompts}],\n",
        "        **kwargs\n",
        "        )\n",
        "    return completion.choices[0].message.content.strip()"
      ]
    },
    {
      "cell_type": "markdown",
      "metadata": {
        "id": "nEK55bIs76eV"
      },
      "source": [
        "## Zero-shot Classification\n",
        "\n",
        "* We'll first assess the performance of the base models at classifying using a simple prompt.\n",
        "* If model starts generate some garbage, we will return -1"
      ]
    },
    {
      "cell_type": "code",
      "execution_count": null,
      "metadata": {
        "id": "NZh_IEHZ76eV"
      },
      "outputs": [],
      "source": [
        "explain('What is Zero-shot classification in LLMs like ChatGPT ? Make a short answer')"
      ]
    },
    {
      "cell_type": "code",
      "execution_count": null,
      "metadata": {
        "id": "COF3bGSw76eW"
      },
      "outputs": [],
      "source": [
        "def llm_predict(review_text, template):\n",
        "    prompt = template.format(review_text=review_text)\n",
        "    prediction = chat_completion(prompt).lower().strip()\n",
        "\n",
        "    try:\n",
        "        return int(prediction)\n",
        "    except:\n",
        "        # if model generates some garbage, we will return -1\n",
        "        return -1"
      ]
    },
    {
      "cell_type": "code",
      "execution_count": null,
      "metadata": {
        "id": "lml0kraV76eW"
      },
      "outputs": [],
      "source": [
        "zero_shot_template = \"\"\"\\\n",
        "You will get a review and you should predict the score of the review.\n",
        "Score is a number from 1 to 5. Answer with only with one number and nothing else.\n",
        "\n",
        "Review: \"{review_text}\"\n",
        "Score:\n",
        "\"\"\"\n",
        "\n",
        "zero_shot_predictions = list(map(partial(llm_predict, template=zero_shot_template), tqdm(test_df.Text)))\n",
        "\n",
        "print('Accuracy:', accuracy_score(test_df['Score'], zero_shot_predictions))"
      ]
    },
    {
      "cell_type": "code",
      "execution_count": null,
      "metadata": {
        "id": "IKS8Vv7R76eW"
      },
      "outputs": [],
      "source": [
        "pd.Series(zero_shot_predictions).value_counts()"
      ]
    },
    {
      "cell_type": "markdown",
      "metadata": {
        "id": "aBghdeNM76eW"
      },
      "source": [
        "* Using just a description of what we want to get as a prompt (w/o any training data) we already beat the TF-IDF+LogReg supervised baseline\n",
        "* Please notice that model sometime not following instructions and generating some garbage (-1)\n",
        "* It's because sometimes model is not fully following instructions (GPT4 for example do it much better)\n",
        "* Fortunately we can can force LLM to understand follow structure we want"
      ]
    },
    {
      "cell_type": "markdown",
      "metadata": {
        "id": "5kPGME0N76eW"
      },
      "source": [
        "## Force output structure"
      ]
    },
    {
      "cell_type": "code",
      "execution_count": null,
      "metadata": {
        "id": "bxu1oc-l76eW"
      },
      "outputs": [],
      "source": [
        "zero_shot_structural_template = \"\"\"\\\n",
        "You will get a review and you should predict the score of the review.\n",
        "Score is a number from 1 to 5. Answer with only with one number and nothing else.\n",
        "\n",
        "Review: \"Very nice!\"\n",
        "Score: 5\n",
        "\n",
        "Review: \"Garbage!\"\n",
        "Score: 1\n",
        "\n",
        "Review: \"Kind of okay\"\n",
        "Score: 3\n",
        "\n",
        "Review: \"{review_text}\"\n",
        "Score:\n",
        "\"\"\"\n",
        "\n",
        "zero_shot_structural_predictions = list(map(partial(llm_predict, template=zero_shot_structural_template), tqdm(test_df.Text)))\n",
        "\n",
        "print('Accuracy:', accuracy_score(test_df['Score'], zero_shot_structural_predictions))\n",
        "\n",
        "# check for garbage predictions\n",
        "assert all([x != -1 for x in zero_shot_structural_predictions]), 'There are some garbage predictions'"
      ]
    },
    {
      "cell_type": "markdown",
      "metadata": {
        "id": "kIigPrNX76eW"
      },
      "source": [
        "* Model doesn't generate garbage anymore\n",
        "* We just added a few synthetic examples to help LLM understand structure we want"
      ]
    },
    {
      "cell_type": "markdown",
      "metadata": {
        "id": "2MmhAOEB76eW"
      },
      "source": [
        "## [Chain of Thought](https://learnprompting.org/docs/intermediate/chain_of_thought) for Zero-shot Classification\n",
        "* It's well known that if you ask LLM to reason before commiting to answer it can provide better results"
      ]
    },
    {
      "cell_type": "code",
      "execution_count": null,
      "metadata": {
        "id": "qTnY2tCt76eX"
      },
      "outputs": [],
      "source": [
        "prompt_template = \"\"\"\\\n",
        "You will get a review and you should predict the score of the review.\n",
        "Score is a number from 1 to 5. Answer with only with one number and nothing else.\n",
        "Try to give a short explanation before providing score.\n",
        "\n",
        "------------------\n",
        "Review: \"Very nice!\"\n",
        "Reasoning: ...\n",
        "Score: 5\n",
        "\n",
        "Review: \"Garbage!\"\n",
        "Reasoning: ...\n",
        "Score: 1\n",
        "\n",
        "Review: \"Kind of okay\"\n",
        "Reasoning: ...\n",
        "Score: 3\n",
        "\n",
        "Review: \"{review_text}\"\n",
        "Reasoning: \"\"\"\n",
        "\n",
        "def llm_predict(review_text):\n",
        "    prompt = prompt_template.format(review_text=review_text)\n",
        "\n",
        "    # Step 1: generate some reasoning\n",
        "    reasoning = ''\n",
        "    while len(reasoning)<10:\n",
        "        # try to generate till we get desired reasoning structure\n",
        "        # we use stop keyword in order to stop generation if model tries to answer right away, before generating reasoning\n",
        "        # we also stop generation if model starts repeating original review text\n",
        "        reasoning = chat_completion(prompt, max_tokens=100, stop=['score:', 'Score:', review_text], temperature=0.7).strip().replace('\\n', '')\n",
        "\n",
        "    # Step 2: join original prompt with generate reasoning and ask to generate final score\n",
        "    # It's not necessary to have two steps, but decomposing it we can get more control over generation (especially for open source LLMs)\n",
        "    # Note: we use text_completion API, but for GPT3.5 and GPT4 it's not required\n",
        "    final_prompt = prompt + reasoning + '\\nScore: '\n",
        "    final_answer = text_completion(final_prompt, max_tokens=2).strip()\n",
        "\n",
        "    try:\n",
        "        return int(final_answer)\n",
        "    except:\n",
        "        # if model starts to generate some garbage, we will return -1\n",
        "        return -1\n",
        "\n",
        "chain_of_thought_predictions = list(map(llm_predict, tqdm(test_df.Text)))\n",
        "\n",
        "# Accuracy may wary since we use non-zero temperature for generation\n",
        "print('Accuracy:', accuracy_score(test_df['Score'], chain_of_thought_predictions))\n",
        "\n",
        "# # check for garbage predictions\n",
        "assert all([x != -1 for x in chain_of_thought_predictions]), 'There are some garbage predictions'"
      ]
    },
    {
      "cell_type": "markdown",
      "metadata": {
        "id": "A5iTa4pp76eX"
      },
      "source": [
        "* Ufortunately, generation process is much slower (~10x) since you need to generate reasoning before it can generate final answer\n",
        "* It's possible to provide more precise instuctions on way of reasoning for your specific task\n",
        "* You also can provide examples of reasoning to help LLM understand the way of reasoning you want"
      ]
    },
    {
      "cell_type": "markdown",
      "metadata": {
        "id": "pnJfcYYm76eX"
      },
      "source": [
        "# CoT with Self-Consistency\n",
        "\n",
        "* It's possible to even further improve accuracy by using [Self-Consistency](https://learnprompting.org/docs/intermediate/self_consistency) trick, but it also will increase generation time\n",
        "* It's basically an ensembles where you use majority vote\n",
        "* It will be N time slower than using CoT alone - where N number of runs\n",
        "\n",
        "> <br>**Important:** you need to use temperature > 0 to get some variance in generated answers\n",
        ">\n",
        "> <br>"
      ]
    },
    {
      "cell_type": "code",
      "execution_count": null,
      "metadata": {
        "id": "6z3_T3M876eX"
      },
      "outputs": [],
      "source": [
        "from collections import Counter\n",
        "\n",
        "def self_consitency(review_text, nb_generations=3):\n",
        "    # we generate predictions several times with CoT\n",
        "    # make sure that you use temperature>0 for generation\n",
        "    # then just take the most common prediction\n",
        "    results = [llm_predict(review_text) for _ in range(nb_generations)]\n",
        "    final_result = Counter(results).most_common()[0][0]\n",
        "    print('Predictions:', results, 'Final prediction:', final_result)\n",
        "    return final_result\n",
        "\n",
        "# just illustrate how it works\n",
        "chain_of_thought_self_cons_predictions = list(map(self_consitency, tqdm(test_df.Text.iloc[:5])))"
      ]
    },
    {
      "cell_type": "markdown",
      "metadata": {
        "id": "3MXldfCR76eX"
      },
      "source": [
        "## Few-shot learning\n",
        "* Now we'll try to use few-shot learning to futher improve accuracy\n",
        "* LLMs can do In-Context-Learning [(ICL)](https://thegradient.pub/in-context-learning-in-context/) -  LLM learns to solve a new task at inference time (without any change to its weights) by being fed a prompt with examples of that task"
      ]
    },
    {
      "cell_type": "code",
      "execution_count": null,
      "metadata": {
        "id": "swqSmoyG76eX"
      },
      "outputs": [],
      "source": [
        "def sample_few_shot_examples(dataset: pd.DataFrame, samples_per_class=1, seed=None):\n",
        "\n",
        "    # sample examples from each class\n",
        "    examples = dataset.groupby('Score').apply(lambda x: x.sample(samples_per_class, random_state=seed))\n",
        "\n",
        "    # shuffle sampled examples\n",
        "    examples = examples.sample(frac=1, random_state=seed)\n",
        "\n",
        "    # construct final string\n",
        "    string = ''\n",
        "    for _, row in examples.iterrows():\n",
        "        review = str(row.Text).replace('\\n','')\n",
        "        string += f'Review: \"{review}\"\\nScore: {_[0]}\\n\\n'\n",
        "\n",
        "    return string.strip()\n",
        "\n",
        "sampled_few_shot_examples = sample_few_shot_examples(reviews_df, samples_per_class=1, seed=0)\n",
        "print(sampled_few_shot_examples)"
      ]
    },
    {
      "cell_type": "code",
      "execution_count": null,
      "metadata": {
        "id": "aq9a2xFD76eX"
      },
      "outputs": [],
      "source": [
        "prompt_template = \"\"\"\\\n",
        "You will get a review and you should predict the score of the review.\n",
        "Score is a number from 1 to 5. Answer with only with one number and nothing else.\n",
        "\n",
        "------------------\n",
        "{few_shot_examples}\n",
        "\n",
        "Review: \"{review_text}\"\n",
        "Score:\"\"\"\n",
        "\n",
        "def llm_predict(review_text, few_shot_examples, llm_kwargs={}):\n",
        "    prompt = prompt_template.format(review_text=review_text, few_shot_examples=few_shot_examples)\n",
        "\n",
        "    # Note: that we use text-completion API for open-source LLMs, but for GPT it's not required\n",
        "    prediction = text_completion(prompt, **llm_kwargs).lower().strip()\n",
        "\n",
        "    try:\n",
        "        return int(prediction)\n",
        "    except:\n",
        "        # if model starts to generate some garbage, we will return -1\n",
        "        return -1\n",
        "\n",
        "few_shot_predictions = list(map(partial(llm_predict, few_shot_examples=sampled_few_shot_examples), tqdm(test_df.Text)))\n",
        "\n",
        "print('Accuracy:', accuracy_score(test_df['Score'], few_shot_predictions))\n",
        "\n",
        "# check for garbage predictions\n",
        "assert all([x != -1 for x in few_shot_predictions]), 'There are some garbage predictions'"
      ]
    },
    {
      "cell_type": "markdown",
      "metadata": {
        "id": "QnR4H2Q476eX"
      },
      "source": [
        "* By using only 5 training examples (one per class) from real data we've got Accuracy which is comparable to CoT results\n",
        "* But computational time is significantly lower (almost 4x lower) than CoT and bit higher that Zero-shot\n",
        "* * Generation of new tokens is much slower (and expensive) than enlarging size of the prompt\n",
        "* Selected few-shot examples significantly affect accuracy, so it's important to select them carefully\n",
        "* It's well known that even order of sampled examples also affect accuracy"
      ]
    },
    {
      "cell_type": "markdown",
      "metadata": {
        "id": "bkdnHxd-76eX"
      },
      "source": [
        "## Classes (tokens) probability"
      ]
    },
    {
      "cell_type": "markdown",
      "metadata": {
        "id": "UOz331rb76eX"
      },
      "source": [
        "* We can also use LLMs to get probability of each class (token) in the prompt\n",
        "* It can be used to get some insights about unsertainty of the LLM's predictions\n",
        "* For that we we need to pass [logprobs](https://platform.openai.com/docs/api-reference/completions/create#completions/create-logprobs) parameter to API call\n",
        "* Usually it's better to have classes which are represented by only one token (like in our case)\n",
        "* In real use cases it's better to use [logit_bias](https://platform.openai.com/docs/api-reference/completions/create#completions/create-logit_bias) as well - to maximize probability that model will return in logprobs all the classes we want - unfortunately it's not implemented in VLLM yet which we use for our experiments"
      ]
    },
    {
      "cell_type": "code",
      "execution_count": null,
      "metadata": {
        "id": "5qnvxI7H76eY"
      },
      "outputs": [],
      "source": [
        "import numpy as np\n",
        "\n",
        "def get_tokens_probability(raw_prediction, classes_tokens=None):\n",
        "    # extract logprobs from API answer\n",
        "    logpropbs = raw_prediction.choices[0].logprobs.top_logprobs\n",
        "\n",
        "    # the first predicted token can be a space, not the class token itself\n",
        "    # so we need to find which token contains the most amount of potential tokens\n",
        "    classes_tokens_intersect = [len(set(token.keys()) & set(classes_tokens)) for token in logpropbs]\n",
        "    logpropbs_token_pos = logpropbs[np.argmax(classes_tokens_intersect)]\n",
        "\n",
        "    # then in order to convert that into probabilities we need to exponentiate and normalize\n",
        "    # potentially there is chance that som of classes are not presented in the logprobs, so we use -1000 (low probability)\n",
        "    classes_prob_unnorm = [np.exp(logpropbs_token_pos.get(c, -1000)) for c in classes_tokens]\n",
        "    classes_prob = np.array(classes_prob_unnorm) / np.sum(classes_prob_unnorm)\n",
        "\n",
        "    # and finally return classes (tokens) probabilities\n",
        "    return {c: p for c, p in zip(classes_tokens, classes_prob)}\n",
        "\n",
        "\n",
        "\n",
        "results = list()\n",
        "for review_text in tqdm(test_df.Text.iloc[:10]):\n",
        "    prompt = prompt_template.format(review_text=review_text, few_shot_examples=sampled_few_shot_examples)\n",
        "\n",
        "    # we use param logprobs which will return logprob of tokens for each position\n",
        "    prediction = text_completion(prompt, return_completion_only=False, logprobs=10)\n",
        "\n",
        "    # extract probabilities for each class\n",
        "    classes_prob = get_tokens_probability(prediction, classes_tokens=list(map(str, range(1, 6))))\n",
        "    results.append(classes_prob)\n",
        "\n",
        "# show class probability for each review\n",
        "# columns - our classes, rows - reviews\n",
        "pd.DataFrame.from_records(results).round(2).style.background_gradient(axis=1)"
      ]
    },
    {
      "cell_type": "markdown",
      "metadata": {
        "id": "zA4_N-SA76eY"
      },
      "source": [
        "## Embeddings and LogReg\n",
        "- ** ***(Run only if you have additional GPU memory; otherwise, an error will occur.)***"
      ]
    },
    {
      "cell_type": "code",
      "execution_count": null,
      "metadata": {
        "id": "bV_l1gSX76eY"
      },
      "outputs": [],
      "source": [
        "!pip install sentence-transformers==3.0.1"
      ]
    },
    {
      "cell_type": "code",
      "execution_count": null,
      "metadata": {
        "id": "QFDSXvWE76eY"
      },
      "outputs": [],
      "source": [
        "from sentence_transformers import SentenceTransformer\n",
        "\n",
        "# (!) It will download 2GB neural network and run inference on your device\n",
        "# Long texts will be truncated to at most 512 tokens.\n",
        "model = SentenceTransformer('intfloat/e5-small-v2')\n",
        "\n",
        "train_embeddings = model.encode(('query: ' + train_df.Text).to_list())\n",
        "test_embeddings = model.encode(('query: ' + test_df.Text).to_list())"
      ]
    },
    {
      "cell_type": "code",
      "execution_count": null,
      "metadata": {
        "id": "RxPDMVN976eY"
      },
      "outputs": [],
      "source": [
        "from sklearn.linear_model import LogisticRegression\n",
        "\n",
        "clf = LogisticRegression()\n",
        "clf.fit(train_embeddings, train_df['Score'])\n",
        "\n",
        "print('E5 Large embeddings + LogReg Accuracy:',\n",
        "      accuracy_score(test_df['Score'], clf.predict(test_embeddings)))"
      ]
    },
    {
      "cell_type": "markdown",
      "metadata": {
        "id": "QOAwYnWC76eY"
      },
      "source": [
        "# Summary"
      ]
    },
    {
      "cell_type": "markdown",
      "metadata": {
        "id": "TZ0cFUSw76eY"
      },
      "source": [
        "This is the result we obtained using the larger and more stable Llama 3 80B model. As shown, accuracy tends to improve.\n",
        "\n",
        "| Approach             | Accuracy | Training data        |\n",
        "|----------------------|----------|----------------------|\n",
        "| TF-IDF + LogReg      | 0.604    | Full (2187 examples) |\n",
        "| Zero-Shot naive      | 0.720    | No                   |\n",
        "| Zero-Shot structured | 0.732    | No                   |\n",
        "| Zero-Shot with CoT   | 0.741    | No                   |\n",
        "| Few-Shot             | 0.757    | 5 examples           |\n",
        "| E5 + LogReg          | 0.749    | Full (2187 examples) |\n",
        "\n",
        "* If you don't have training data at all - you can use Zero-Shot approach\n",
        "* If you have some training data (at least 1 sample per class) - you can use Few-Shot approach\n",
        "* CoT can be used to improve accuracy of Zero-Shot approach as well as Few-Shot\n",
        "* You can use LLM to get probability of each class (token)\n",
        "* You can also use LLM to label your data -> train more classical models (like E5 + LogReg) -> use it for inference"
      ]
    },
    {
      "cell_type": "markdown",
      "metadata": {
        "id": "QYPeryfL76eY"
      },
      "source": [
        "# Homework\n",
        "* Try to play with prompt in [Force output structure](#Force-output-structure) cell to get better accuracy e.g. provide more context on task\n",
        "* Try to sample different \\ more examples per class in [Few-shot learning](#Few-shot-learning) cell and see how it affects accuracy\n",
        "* * Extra: Try to find the best set of examples from training set using validation set (not test set)\n",
        "* Implement self-consistency trick for [Few-shot learning](#Few-shot-learning) cell\n",
        "* Try other models (like Mistral 7B) from other config files\n",
        "* TODO: Add one more dataset for multi-class classification"
      ]
    },
    {
      "cell_type": "markdown",
      "metadata": {
        "id": "4bMe_gOF76eY"
      },
      "source": [
        "# Extra\n",
        "* There are libraries which can help you to use LLMs\n",
        "* * [guidance](https://github.com/guidance-ai/guidance) - enables you to control modern LLMs more efficiently than traditional prompting or chaining\n",
        "* * [DSPy](https://github.com/stanfordnlp/dspy/tree/main) - provides composable and declarative modules for instructing LMs in a familiar Pythonic syntax"
      ]
    }
  ],
  "metadata": {
    "accelerator": "GPU",
    "colab": {
      "gpuType": "T4",
      "provenance": [],
      "include_colab_link": true
    },
    "kernelspec": {
      "display_name": "Python 3",
      "name": "python3"
    },
    "language_info": {
      "codemirror_mode": {
        "name": "ipython",
        "version": 3
      },
      "file_extension": ".py",
      "mimetype": "text/x-python",
      "name": "python",
      "nbconvert_exporter": "python",
      "pygments_lexer": "ipython3",
      "version": "3.12.4"
    }
  },
  "nbformat": 4,
  "nbformat_minor": 0
}