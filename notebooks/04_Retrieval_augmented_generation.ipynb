{
  "cells": [
    {
      "cell_type": "markdown",
      "metadata": {
        "id": "view-in-github",
        "colab_type": "text"
      },
      "source": [
        "<a href=\"https://colab.research.google.com/github/CherpanovNazim/learn-llm/blob/main/notebooks/04_Retrieval_augmented_generation.ipynb\" target=\"_parent\"><img src=\"https://colab.research.google.com/assets/colab-badge.svg\" alt=\"Open In Colab\"/></a>"
      ]
    },
    {
      "cell_type": "markdown",
      "metadata": {
        "id": "1w3NJqXCtAlz"
      },
      "source": [
        "\n",
        "> [GitHub Repo](https://github.com/CherpanovNazim/learn-llm)"
      ]
    },
    {
      "cell_type": "markdown",
      "metadata": {
        "id": "6y9OZYUYtAl0"
      },
      "source": [
        "# Setup"
      ]
    },
    {
      "cell_type": "code",
      "execution_count": null,
      "metadata": {
        "id": "OnFRA6H5P8CK"
      },
      "outputs": [],
      "source": [
        "#clone git repository\n",
        "!git clone -q https://github.com/CherpanovNazim/learn-llm.git"
      ]
    },
    {
      "cell_type": "code",
      "execution_count": null,
      "metadata": {
        "id": "W4MJGJtatAl0"
      },
      "outputs": [],
      "source": [
        "!pip install -qU \\\n",
        "    transformers==4.44.0 \\\n",
        "    sentence-transformers==3.0.1 \\\n",
        "    pinecone-client==4.1.2 \\\n",
        "    datasets==2.20.0 \\\n",
        "    accelerate==0.32.1 \\\n",
        "    einops==0.8.0 \\\n",
        "    langchain==0.2.13 \\\n",
        "    docarray==0.40.0 \\\n",
        "    rank_bm25==0.2.2 \\\n",
        "    langchain-huggingface==0.0.3 \\\n",
        "    langchain-openai==0.1.17 \\\n",
        "    fsspec==2024.5.0 \\\n",
        "    langchain-community==0.2.12 \\\n",
        "    openai==1.40.3 \\\n",
        "    vllm==0.5.4\n"
      ]
    },
    {
      "cell_type": "markdown",
      "metadata": {
        "id": "3H3jccY4tAl1"
      },
      "source": [
        "# RAG (Retrieval Augmented Generation) System"
      ]
    },
    {
      "cell_type": "markdown",
      "metadata": {
        "id": "KiPw1YKptAl1"
      },
      "source": [
        "**Retrieval Augmented Generation (RAG)** is a natural language processing (NLP) technique that combines the strengths of large language models (LLMs) and information retrieval (IR) systems to improve the quality of generated text.\n",
        "\n",
        "LLMs are trained on massive datasets of text and code, and can generate text, translate languages, write different kinds of creative content, and answer your questions in an informative way. However, LLMs can be inaccurate and inconsistent, especially when asked questions about specific facts or topics.\n",
        "\n",
        "IR systems are designed to find relevant documents in a large corpus of text. RAG systems leverage the strengths of both LLMs and IR systems to generate more accurate, informative, and diverse text.\n",
        "\n",
        "**How RAG works**\n",
        "\n",
        "RAG systems work in two stages:\n",
        "\n",
        "1. **Retrieval:** The RAG system first uses an IR system to retrieve a set of relevant documents from an external knowledge base, such as Wikipedia or company-specific internal databases.\n",
        "2. **Generation:** The RAG system then passes the retrieved documents to an LLM, which generates text based on the documents and the original input prompt.\n",
        "\n",
        "The LLM can generate text in a variety of formats, including text, code, scripts, musical pieces, email, letters, etc.\n",
        "\n",
        "**Benefits of RAG systems**\n",
        "\n",
        "RAG systems offer a number of benefits over traditional LLM-based NLP systems:\n",
        "\n",
        "* **Accuracy:** RAG systems are more accurate than traditional LLM-based NLP systems because they are grounded in real-world knowledge from external knowledge bases.\n",
        "* **Informativeness:** RAG systems can generate more informative text than traditional LLM-based NLP systems because they have access to a wider range of information.\n",
        "* **Diversity:** RAG systems can generate more diverse text than traditional LLM-based NLP systems because they are not limited by the biases of their training data.\n",
        "\n",
        "**Applications of RAG systems**\n",
        "\n",
        "RAG systems can be used for a variety of NLP tasks, including:\n",
        "\n",
        "* Question answering\n",
        "* Text summarization\n",
        "* Creative text generation\n",
        "* Code generation\n",
        "\n",
        "**Here are some examples of how RAG systems can be used:**\n",
        "\n",
        "* A customer service chatbot can use RAG to retrieve relevant knowledge base articles to answer customer questions more accurately and informatively.\n",
        "* A news article summarization system can use RAG to retrieve relevant news articles and generate summaries that are more comprehensive and informative.\n",
        "* A code generation system can use RAG to retrieve relevant code snippets and generate code that is more efficient and bug-free.\n",
        "\n",
        "Overall, RAG systems are a powerful new tool for improving the quality and relevance of generated text.\n",
        "\n",
        "![RAG](data:image/jpeg;base64,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)\n",
        "\n",
        "Image source: https://www.deepset.ai/blog/llms-retrieval-augmentation"
      ]
    },
    {
      "cell_type": "markdown",
      "metadata": {
        "id": "erpLLcnotAl3"
      },
      "source": [
        "# Basic Example"
      ]
    },
    {
      "cell_type": "markdown",
      "metadata": {
        "id": "Ptfy9qL7tAl3"
      },
      "source": [
        "## Text Embedding\n",
        "\n",
        "For text embedding we'll be using all-MiniLM-L6-v2 model from the HuggingFace that embeds texts into 384 dimensional vectors."
      ]
    },
    {
      "cell_type": "code",
      "execution_count": null,
      "metadata": {
        "id": "0vhCEWr0tAl4"
      },
      "outputs": [],
      "source": [
        "from langchain_huggingface import HuggingFaceEmbeddings\n",
        "\n",
        "embed_model_id = 'sentence-transformers/all-MiniLM-L6-v2'\n",
        "\n",
        "embed_model = HuggingFaceEmbeddings(\n",
        "    model_name=embed_model_id\n",
        ")"
      ]
    },
    {
      "cell_type": "code",
      "execution_count": null,
      "metadata": {
        "id": "-TN6uvwQtAl4"
      },
      "outputs": [],
      "source": [
        "# Testing embedding model\n",
        "docs = [\n",
        "    \"first document\",\n",
        "    \"second document\"\n",
        "]\n",
        "embeddings = embed_model.embed_documents(docs)\n",
        "print(f\"There are {len(embeddings)} document embeddings, each with \" f\"a dimensionality of {len(embeddings[0])}.\")"
      ]
    },
    {
      "cell_type": "markdown",
      "metadata": {
        "id": "JJLIw3-StAl4"
      },
      "source": [
        "## Load Dataset\n",
        "\n",
        "Dataset consists of contains chunked extracts (of ~300 tokens) from papers related to (and including) the Llama 2 research paper. More information is available at: https://huggingface.co/datasets/jamescalam/llama-2-arxiv-papers-chunked"
      ]
    },
    {
      "cell_type": "code",
      "execution_count": null,
      "metadata": {
        "id": "rM36dFEjtAl4"
      },
      "outputs": [],
      "source": [
        "from datasets import load_dataset\n",
        "\n",
        "data = load_dataset(\n",
        "    'jamescalam/llama-2-arxiv-papers-chunked',\n",
        "    split='train'\n",
        ")\n",
        "data"
      ]
    },
    {
      "cell_type": "code",
      "execution_count": null,
      "metadata": {
        "id": "_1NIfbAltAl5"
      },
      "outputs": [],
      "source": [
        "import pandas as pd\n",
        "# Save dataset into pandas dataframe\n",
        "data = data.to_pandas()\n",
        "\n",
        "# Inspect\n",
        "data.columns\n",
        "\n",
        "# Dropping duplicate chunks\n",
        "data = data.drop_duplicates(subset=['chunk'])\n",
        "data.shape"
      ]
    },
    {
      "cell_type": "markdown",
      "metadata": {
        "id": "1xMC3ilYtAl5"
      },
      "source": [
        "## Create Local Vector Database"
      ]
    },
    {
      "cell_type": "markdown",
      "metadata": {
        "id": "nWJH22o3tAl5"
      },
      "source": [
        "We need Document type data structure that stores not only text that our model will work on but metadata as well"
      ]
    },
    {
      "cell_type": "code",
      "execution_count": null,
      "metadata": {
        "id": "qgzY9JG1tAl5"
      },
      "outputs": [],
      "source": [
        "from langchain.schema.document import Document\n",
        "\n",
        "def example_to_document(example: dict) -> Document:\n",
        "    return Document(\n",
        "        page_content=str(example[\"chunk\"]),\n",
        "        metadata={\n",
        "            \"chunk-id\": str(example[\"chunk-id\"]),\n",
        "            \"id\": str(example['id']),\n",
        "            \"title\": str(example[\"title\"]),\n",
        "            \"summary\": str(example[\"summary\"]),\n",
        "        },\n",
        "    )"
      ]
    },
    {
      "cell_type": "markdown",
      "metadata": {
        "id": "l7R5gK46tAl5"
      },
      "source": [
        "For storing embeddings and associate metadata we'll be using DocArrayInMemorySearch based on Docarray module that creates in memory database. It's usefull for demonstration purposes and small datasets. For large datasets specialized vector DBs are recommended with built-in specialized algorithms for fast and efficient search and retrieval."
      ]
    },
    {
      "cell_type": "code",
      "execution_count": null,
      "metadata": {
        "id": "DLwilx_LtAl5"
      },
      "outputs": [],
      "source": [
        "# Converting each text chunk to Document type structure\n",
        "docs = [example_to_document(example) for example in data[['chunk', 'chunk-id','id', 'title', 'summary']].to_dict(orient='records')]"
      ]
    },
    {
      "cell_type": "code",
      "execution_count": null,
      "metadata": {
        "id": "G2JVEXbQtAl5"
      },
      "outputs": [],
      "source": [
        "from langchain.vectorstores import DocArrayInMemorySearch\n",
        "\n",
        "# Create database of embeddings\n",
        "db = DocArrayInMemorySearch.from_documents(docs, embed_model)"
      ]
    },
    {
      "cell_type": "markdown",
      "metadata": {
        "id": "QDy0esf-tAl5"
      },
      "source": [
        "## Retriever Component"
      ]
    },
    {
      "cell_type": "markdown",
      "metadata": {
        "id": "ics3cfyWtAl5"
      },
      "source": [
        "A retriever in a RAG system is an algorithm that searches a large corpus of text and retrieves the most relevant passages for a given query.\n",
        "\n",
        "It is essential for providing the LLM generator with the necessary context to generate a high-quality response. Without the retriever, the generator would have to rely solely on its own internal knowledge, which would limit its ability to generate accurate and informative responses."
      ]
    },
    {
      "cell_type": "code",
      "execution_count": null,
      "metadata": {
        "id": "-6viwB2gtAl5"
      },
      "outputs": [],
      "source": [
        "# Let's test the LLAMA model with a query that could be confused with an animal\n",
        "query = \"what is so special about llama 2?\""
      ]
    },
    {
      "cell_type": "code",
      "execution_count": null,
      "metadata": {
        "id": "mkF7qq49tAl6"
      },
      "outputs": [],
      "source": [
        "# search for the top 5 contextually most similar chunks of texts\n",
        "res = db.similarity_search_with_score(query, k = 5)\n",
        "res"
      ]
    },
    {
      "cell_type": "markdown",
      "metadata": {
        "id": "lHwUpLoGtAl6"
      },
      "source": [
        "## Testing LLama 3 Model without RAG\n",
        "\n",
        "Now test the model for the defined query without providing any context."
      ]
    },
    {
      "cell_type": "code",
      "execution_count": null,
      "metadata": {
        "id": "JvTiRWHktAl6"
      },
      "outputs": [],
      "source": [
        "# wait ~3 min for installations\n",
        "%%time\n",
        "\n",
        "import json\n",
        "import sys\n",
        "\n",
        "# Load the default model\n",
        "DEFAULT_MODEL = json.load(open('learn-llm/configs/llama_3_8B_instruct_awq.json', 'r'))\n",
        "\n",
        "# #run VLLM\n",
        "!nohup vllm serve {DEFAULT_MODEL['model']} --quantization awq --max-model-len=4096 > vllm.log &\n",
        "!tail -f vllm.log | grep -q \"Uvicorn running\" && echo \"Now you can start using the model\""
      ]
    },
    {
      "cell_type": "code",
      "execution_count": null,
      "metadata": {
        "id": "KOa9QGC2tAl6"
      },
      "outputs": [],
      "source": [
        "# Initialize LLM\n",
        "from langchain_openai import ChatOpenAI\n",
        "\n",
        "llm = ChatOpenAI(\n",
        "    model = DEFAULT_MODEL[\"model\"],\n",
        "    openai_api_base=DEFAULT_MODEL['api_base'],\n",
        "    openai_api_key=DEFAULT_MODEL['api_key'],\n",
        "    frequency_penalty=0.5,  # Reduces repetition\n",
        "    presence_penalty=0,  # Avoids introducing new ideas\n",
        "    )"
      ]
    },
    {
      "cell_type": "code",
      "execution_count": null,
      "metadata": {
        "id": "rxmPBe2gtAl6"
      },
      "outputs": [],
      "source": [
        "llm_output = llm.invoke(query)\n",
        "print(llm_output.content)"
      ]
    },
    {
      "cell_type": "markdown",
      "metadata": {
        "id": "fGZbg6NztAl6"
      },
      "source": [
        "## Testing LLAMA 3 Model with RAG"
      ]
    },
    {
      "cell_type": "markdown",
      "metadata": {
        "id": "sNAwuLlEtAl6"
      },
      "source": [
        "In the wider scope of the LLAMA 3 model, word-number combination of llama+2 most likely refers to the animal. Let's try the same query\n",
        "with RAG pipeline to shrink the context space."
      ]
    },
    {
      "cell_type": "code",
      "execution_count": null,
      "metadata": {
        "id": "etm9wW6LtAl6"
      },
      "outputs": [],
      "source": [
        "from langchain.chains import RetrievalQA\n",
        "\n",
        "# Define retriever\n",
        "retriever = db.as_retriever(search_type='similarity', search_kwargs={'k': 5})\n",
        "# Define RAG chain\n",
        "qa_chain = RetrievalQA.from_chain_type(llm,retriever=retriever, chain_type='stuff')\n",
        "response=qa_chain.invoke({\"query\": query})\n",
        "rag_output = response['result']\n",
        "\n",
        "# Pretty-print the output\n",
        "rag_lines = rag_output.split('\\n')\n",
        "for line in rag_lines:\n",
        "    print(line)"
      ]
    },
    {
      "cell_type": "markdown",
      "metadata": {
        "id": "WKZDRONXtAl6"
      },
      "source": [
        "# More Advanced Example"
      ]
    },
    {
      "cell_type": "markdown",
      "metadata": {
        "id": "qKJEBzgMtAl6"
      },
      "source": [
        "Previously, the text that we used for our first RAG application, was already chunked/splitted in approximately 300 tokens-sized pieces, however in real-life scenarios, text is given in a raw, unprocessed format and the chunking stage is one of the crucial steps in developing effective RAG application.\n",
        "\n",
        "\n",
        "In RAG applications, the retriever module is responsible for finding relevant passages from a large corpus of text to provide context for the generative language model (LLM). The LLM then uses this context to generate text, translate languages, or answer questions in a comprehensive and informative way.\n",
        "\n",
        "Therefore the text chunking is important for RAG applications for several reasons:\n",
        "\n",
        "* **Efficiency:** Chunking the input text allows the retriever to more efficiently identify relevant passages.\n",
        "* **Accuracy:** Chunking can also improve the accuracy of the retriever by allowing it to focus on smaller, more coherent, specific units of text.\n",
        "* **Control:** Chunking gives the developer more control over the retrieval process. For example, the developer can specify the maximum chunk size or the type of chunks to be retrieved (e.g., sentences, paragraphs, etc.).\n",
        "* **Context Limitation:** LLM models usualy have finite context window, therefore it's necessary to provide only essential, contextually relevant information to fit into this limitation.\n",
        "\n",
        "\n",
        "There are a number of different methods for text chunking. Some common methods include:\n",
        "\n",
        "* **Sentence boundary detection:** This method splits the text into sentences based on punctuation and other syntactic cues.\n",
        "* **Paragraph boundary detection:** This method splits the text into paragraphs based on indentation, blank lines, and other formatting cues.\n",
        "* **Topic segmentation:** This method splits the text into segments that are topically coherent. This can be done using a variety of techniques, such as latent Dirichlet allocation (LDA) or topic modeling.\n",
        "\n",
        "\n",
        "The best chunking method for a particular RAG application will depend on the specific needs of the application. For example, if the goal is to improve the efficiency of the retriever, then a simple sentence or paragraph boundary detection method may be sufficient. However, if the goal is to improve the accuracy of the retriever or to provide more control over the retrieval process, then a more sophisticated topic or discourse segmentation method may be necessary."
      ]
    },
    {
      "cell_type": "markdown",
      "metadata": {
        "id": "lyVJjoQxtAl6"
      },
      "source": [
        "## Loading LLama-2 Related Papers\n",
        "Dataset is available at: https://huggingface.co/datasets/jamescalam/llama-2-arxiv-papers"
      ]
    },
    {
      "cell_type": "code",
      "execution_count": null,
      "metadata": {
        "id": "nyTnSDfWtAl7"
      },
      "outputs": [],
      "source": [
        "data_raw = load_dataset(\n",
        "    'jamescalam/llama-2-arxiv-papers',\n",
        "    split='train'\n",
        ")\n",
        "data_raw"
      ]
    },
    {
      "cell_type": "code",
      "execution_count": null,
      "metadata": {
        "id": "JY9T3rIgtAl7"
      },
      "outputs": [],
      "source": [
        "# Convert dataset into pandas dataframe\n",
        "data_raw = data_raw.to_pandas()\n",
        "\n",
        "# Inspect\n",
        "data_raw.shape, data_raw.columns"
      ]
    },
    {
      "cell_type": "code",
      "execution_count": null,
      "metadata": {
        "id": "jcyCM1f9tAl7"
      },
      "outputs": [],
      "source": [
        "data_raw.head(2)"
      ]
    },
    {
      "cell_type": "markdown",
      "metadata": {
        "id": "nYcbaI3gtAl7"
      },
      "source": [
        "## Text Chunking"
      ]
    },
    {
      "cell_type": "markdown",
      "metadata": {
        "id": "8jhW2hjktAl7"
      },
      "source": [
        "For the demonstration purposes we'll be using **RecursiveCharacterTextSplitter** chunking that results in chunks with the same amount of tokens while doesn't require third-party NLP libraries or models.\n",
        "\n",
        "The **RecursiveCharacterTextSplitter** divides a given text based on a given chunk size using specific characters. By default, it uses **[\"\\n\\n\", \"\\n\", \" \", \"\"]**. The process starts by attempting to split the text using the first character, **\"\\n\\n\"**. If the resulting split remains too big, it proceeds to the next character, **\"\\n\"**, and so on, until the output is smaller than the **predetermined chunk size**."
      ]
    },
    {
      "cell_type": "code",
      "execution_count": null,
      "metadata": {
        "id": "TeDI2uzxtAl7"
      },
      "outputs": [],
      "source": [
        "# Define text splitter\n",
        "from langchain.text_splitter import RecursiveCharacterTextSplitter\n",
        "\n",
        "# Splitting parameters\n",
        "chunk_size = 512\n",
        "chunk_overlap = 25\n",
        "\n",
        "text_splitter = RecursiveCharacterTextSplitter(\n",
        "    chunk_size=chunk_size,\n",
        "    chunk_overlap=chunk_overlap\n",
        ")\n",
        "\n",
        "# New dataframe generation\n",
        "def create_chunked_dataframe(df):\n",
        "\n",
        "    # store intermdiate results\n",
        "    new_rows = []\n",
        "\n",
        "    for _, row in df.iterrows():\n",
        "        paper_id = row['id']\n",
        "        chunks = text_splitter.create_documents([row['content']]) #it's necessary to put text into list as RecursiveCharacterTextSplitter expects\n",
        "\n",
        "        for chunk in chunks:\n",
        "            new_rows.append({'id': paper_id, 'text': chunk})\n",
        "\n",
        "    # construct new df\n",
        "    new_df = pd.DataFrame(new_rows)\n",
        "\n",
        "    return new_df"
      ]
    },
    {
      "cell_type": "code",
      "execution_count": null,
      "metadata": {
        "id": "6iIqM-dYtAl7"
      },
      "outputs": [],
      "source": [
        "# Create chunks\n",
        "chunk_df = create_chunked_dataframe(data_raw)\n",
        "\n",
        "# Dropping duplicate chunks\n",
        "chunk_df = chunk_df.drop_duplicates(subset=['text'])\n",
        "chunk_df.shape"
      ]
    },
    {
      "cell_type": "code",
      "execution_count": null,
      "metadata": {
        "id": "wl2YD7OItAl-"
      },
      "outputs": [],
      "source": [
        "chunk_df.head()"
      ]
    },
    {
      "cell_type": "markdown",
      "metadata": {
        "id": "PXTA-2rbtAl_"
      },
      "source": [
        "## Retrieval"
      ]
    },
    {
      "cell_type": "markdown",
      "metadata": {
        "id": "4p0v4qVTtAl_"
      },
      "source": [
        "In the basic example **all-MiniLM-L6-v2** model for chunk embeddings that was a crucial step for retrieving chunks contextually most relevant to a given prompt query. For the demonstration purposes, now we'll be using BM25 algorithm that doesn't require any LLM or NLP models and that was developed in early 70s as a probabilistic retrieval algorithm for information search systems."
      ]
    },
    {
      "cell_type": "code",
      "execution_count": null,
      "metadata": {
        "id": "JI9Wr5zstAl_"
      },
      "outputs": [],
      "source": [
        "from langchain.retrievers import BM25Retriever\n",
        "\n",
        "# k=10 implies that our RAG system with generate response based on the top 10 most relevant chunks of texts\n",
        "bm25_retriever = BM25Retriever.from_documents(chunk_df['text'], k=10)"
      ]
    },
    {
      "cell_type": "code",
      "execution_count": null,
      "metadata": {
        "id": "uafuEfsBtAl_"
      },
      "outputs": [],
      "source": [
        "result = bm25_retriever.invoke(query)\n",
        "result"
      ]
    },
    {
      "cell_type": "markdown",
      "metadata": {
        "id": "cmBjs5eLtAl_"
      },
      "source": [
        "## BM25 Based RAG System"
      ]
    },
    {
      "cell_type": "markdown",
      "metadata": {
        "id": "XNnN2iFEtAl_"
      },
      "source": [
        "As we already have defined LLM model and retriever, we can construct basic RAG system in the same way as before with Langchain."
      ]
    },
    {
      "cell_type": "markdown",
      "metadata": {
        "id": "gkR7kJZ8tAl_"
      },
      "source": [
        "# THIS DOES NOT PROVIDE CORRECT OUPUT\n",
        "\n",
        "As seen in old notebook, retriever returns same documents, but RetrievalQA chain does not detect relevant results.\n",
        "Below is modified chain, that returns correct output using BM25 as a retriever\n",
        "\n",
        "TODO: decide what chain to keep"
      ]
    },
    {
      "cell_type": "code",
      "execution_count": null,
      "metadata": {
        "id": "csPfRBcqtAl_"
      },
      "outputs": [],
      "source": [
        "# Define RAG chain\n",
        "bm25_chain = RetrievalQA.from_chain_type(llm, retriever=bm25_retriever, chain_type='stuff')\n",
        "bm25_response=bm25_chain({\"query\": query})\n",
        "bm25_rag_output = bm25_response['result']\n",
        "\n",
        "# The output\n",
        "print(bm25_rag_output)"
      ]
    },
    {
      "cell_type": "code",
      "source": [
        "!pip install langchainhub==0.1.20"
      ],
      "metadata": {
        "id": "Kpkpd95-qrbF"
      },
      "execution_count": null,
      "outputs": []
    },
    {
      "cell_type": "code",
      "execution_count": null,
      "metadata": {
        "id": "b1uD8fe4P8CY"
      },
      "outputs": [],
      "source": [
        "from langchain.chains.retrieval import create_retrieval_chain\n",
        "from langchain.chains.combine_documents import create_stuff_documents_chain\n",
        "from langchain import hub\n",
        "from langchain_core.prompts import ChatPromptTemplate\n",
        "\n",
        "\n",
        "prompt = ChatPromptTemplate.from_messages([\n",
        "  (\"system\", \"Answer any use questions based solely on the context below: <context> {context} </context>\"),\n",
        "  (\"placeholder\", \"{chat_history}\"),\n",
        "  (\"human\", \"{input}\"),\n",
        "])\n",
        "\n",
        "retrieval_qa_chat_prompt = prompt\n",
        "combine_docs_chain = create_stuff_documents_chain(\n",
        "    llm, retrieval_qa_chat_prompt\n",
        ")\n",
        "retrieval_chain = create_retrieval_chain(retriever, combine_docs_chain)\n",
        "\n",
        "result = retrieval_chain.invoke({\"input\":query})\n",
        "print(result['answer'])"
      ]
    },
    {
      "cell_type": "markdown",
      "metadata": {
        "id": "RRVucuz3tAmA"
      },
      "source": [
        "# Homework"
      ]
    },
    {
      "cell_type": "markdown",
      "metadata": {
        "id": "VsYWDb3ntAmA"
      },
      "source": [
        "BM25 Retriever generated acceptable results after trying different parameters for **RecursiveCharacterTextSplitter** component. There're lot of ways to improve current RAG system, including:\n",
        "- Changing splitting method (and it parameters);\n",
        "- Use different embedding model from open-source HuggingFace Model Zoo;\n",
        "- Use different retrieval method;\n",
        "\n",
        "Your task is to use:\n",
        "- Refer to langchain documentation on text splitters and choose try another chunking method:\n",
        "  https://api.python.langchain.com/en/latest/api_reference.html#module-langchain.text_splitter\n",
        "(for example, NLTKTextSplitter might result in better context preservation)\n",
        "- Use different type of retriever method implement in Langchain: https://python.langchain.com/docs/modules/data_connection/retrievers/"
      ]
    }
  ],
  "metadata": {
    "accelerator": "GPU",
    "colab": {
      "gpuType": "T4",
      "provenance": [],
      "include_colab_link": true
    },
    "kernelspec": {
      "display_name": "Python 3",
      "name": "python3"
    },
    "language_info": {
      "codemirror_mode": {
        "name": "ipython",
        "version": 3
      },
      "file_extension": ".py",
      "mimetype": "text/x-python",
      "name": "python",
      "nbconvert_exporter": "python",
      "pygments_lexer": "ipython3",
      "version": "3.12.4"
    }
  },
  "nbformat": 4,
  "nbformat_minor": 0
}